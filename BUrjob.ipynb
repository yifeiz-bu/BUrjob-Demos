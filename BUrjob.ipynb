{
  "nbformat": 4,
  "nbformat_minor": 0,
  "metadata": {
    "colab": {
      "provenance": [],
      "authorship_tag": "ABX9TyOy6M4KzUvExX+TYSlKIc5k",
      "include_colab_link": true
    },
    "kernelspec": {
      "name": "python3",
      "display_name": "Python 3"
    },
    "language_info": {
      "name": "python"
    }
  },
  "cells": [
    {
      "cell_type": "markdown",
      "metadata": {
        "id": "view-in-github",
        "colab_type": "text"
      },
      "source": [
        "<a href=\"https://colab.research.google.com/github/yifeiz-bu/BUrjob-Demos/blob/main/BUrjob.ipynb\" target=\"_parent\"><img src=\"https://colab.research.google.com/assets/colab-badge.svg\" alt=\"Open In Colab\"/></a>"
      ]
    },
    {
      "cell_type": "code",
      "source": [
        "# import necessary libraries\n",
        "import pandas as pd\n",
        "from sklearn.preprocessing import LabelEncoder, OneHotEncoder, StandardScaler\n",
        "from sklearn.model_selection import train_test_split, cross_val_score\n",
        "from sklearn.tree import DecisionTreeClassifier\n",
        "from sklearn.metrics import accuracy_score"
      ],
      "metadata": {
        "id": "RNPsIsN_sslq"
      },
      "execution_count": null,
      "outputs": []
    },
    {
      "cell_type": "code",
      "source": [
        "# load alumni data\n",
        "alumni_data = pd.read_csv('alumni_data.csv')\n",
        " \n",
        "# preprocess data\n",
        "categorical_cols = ['major', 'job_position']\n",
        "numerical_cols = ['extracurricular_activities', 'course_project', 'gpa', 'evaluation']\n",
        "target_col = 'job_position'\n",
        " \n",
        "# encode categorical columns\n",
        "label_encoder = LabelEncoder()\n",
        "for col in categorical_cols:\n",
        "    alumni_data[col] = label_encoder.fit_transform(alumni_data[col])\n",
        " \n",
        "onehot_encoder = OneHotEncoder(sparse=False)\n",
        "encoded_data = onehot_encoder.fit_transform(alumni_data[categorical_cols])\n",
        "encoded_df = pd.DataFrame(encoded_data, columns=onehot_encoder.get_feature_names(categorical_cols))\n",
        " \n",
        "# combine categorical and numerical data\n",
        "preprocessed_data = pd.concat([alumni_data[numerical_cols], encoded_df], axis=1)\n",
        " \n",
        "# normalize data\n",
        "scaler = StandardScaler()\n",
        "preprocessed_data[numerical_cols] = scaler.fit_transform(preprocessed_data[numerical_cols])"
      ],
      "metadata": {
        "id": "u7I10b1Js04Z"
      },
      "execution_count": null,
      "outputs": []
    },
    {
      "cell_type": "code",
      "source": [
        " \n",
        "# split data into training and testing sets\n",
        "X_train, X_test, y_train, y_test = train_test_split(preprocessed_data, alumni_data[target_col], test_size=0.2)\n",
        " \n",
        "# train decision tree classifier model\n",
        "model = DecisionTreeClassifier()\n",
        "scores = cross_val_score(model, X_train, y_train, cv=5)\n",
        "print(\"Cross-validation accuracy: %0.2f (+/- %0.2f)\" % (scores.mean(), scores.std() * 2))\n",
        " \n",
        "model.fit(X_train, y_train)"
      ],
      "metadata": {
        "id": "Y0yi8HPns5e5"
      },
      "execution_count": null,
      "outputs": []
    },
    {
      "cell_type": "code",
      "source": [
        "# make predictions on test data\n",
        "y_pred = model.predict(X_test)\n",
        "accuracy = accuracy_score(y_test, y_pred)\n",
        "print(\"Test accuracy:\", accuracy)\n",
        " \n",
        "# predict job opportunities for graduating student\n",
        "graduating_student_data = pd.DataFrame({\n",
        "    'extracurricular_activities': [3],\n",
        "    'course_project': [90],\n",
        "    'gpa': [3.7],\n",
        "    'evaluation': [4.2],\n",
        "    'major_Biology': [0],\n",
        "    'major_Computer Science': [1],\n",
        "    'major_Economics': [0],\n",
        "    'major_Engineering': [0],\n",
        "    'major_Mathematics': [0],\n",
        "    'major_Physics': [0]\n",
        "})"
      ],
      "metadata": {
        "id": "vUAZ2Oyns7wp"
      },
      "execution_count": null,
      "outputs": []
    }
  ]
}